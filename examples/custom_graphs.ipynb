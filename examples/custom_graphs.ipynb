{
 "cells": [
  {
   "cell_type": "code",
   "execution_count": null,
   "metadata": {},
   "outputs": [],
   "source": [
    "from switss.model import DTMC, MDP"
   ]
  },
  {
   "cell_type": "code",
   "execution_count": null,
   "metadata": {
    "scrolled": false
   },
   "outputs": [],
   "source": [
    "M = DTMC.from_prism_model(\"datasets/crowds.pm\",\n",
    "                        prism_constants={(\"TotalRuns\", 1), (\"CrowdSize\", 2)},\n",
    "                        extra_labels={(\"target\",\"observe0>1\")})\n",
    "\n",
    "def state_map(stateidx, labels):\n",
    "    color = \"red\" if \"deadlock\" in labels else \"blue\" if \"init\" in labels else \"green\"\n",
    "    return { \"color\" : color,\n",
    "            \"label\" : \"%s [%s]\" % (stateidx, \",\".join(labels)),\n",
    "            \"style\" : \"filled\" }\n",
    "\n",
    "def trans_map(stateidx, targetidx, p):\n",
    "    return { \"color\" : \"orange\", \"label\" : \"{:.2f}%\".format(p*100) }\n",
    "    \n",
    "M.digraph(state_map=state_map, trans_map=trans_map).view()"
   ]
  },
  {
   "cell_type": "code",
   "execution_count": null,
   "metadata": {
    "scrolled": false
   },
   "outputs": [],
   "source": [
    "M = MDP.from_file(\"datasets/test.lab\", \"datasets/test.tra\")\n",
    "\n",
    "def state_map(stateidx, labels):\n",
    "    color = \"red\" if \"target\" in labels else \"blue\" if \"init\" in labels else \"green\"\n",
    "    return { \"color\" : color,\n",
    "            \"label\" : \"%s [%s]\" % (stateidx, \",\".join(labels)),\n",
    "            \"style\" : \"filled\" }\n",
    "\n",
    "def trans_map(stateidx, action, targetidx, p):\n",
    "    return { \"color\" : \"orange\", \"label\" : \"{:.2f}%\".format(p*100) }\n",
    "\n",
    "def action_map(sourceidx, action, labels):\n",
    "    return { \"node\" : { \"label\" :  \"%s\" % action,\n",
    "                        \"color\" : \"black\", \n",
    "                        \"shape\" : \"circle\" }, \n",
    "             \"edge\" : { \"color\" : \"black\",\n",
    "                        \"dir\" : \"none\" } }\n",
    "\n",
    "M.digraph(state_map=state_map, trans_map=trans_map, action_map=action_map).view()"
   ]
  },
  {
   "cell_type": "code",
   "execution_count": null,
   "metadata": {},
   "outputs": [],
   "source": []
  },
  {
   "cell_type": "code",
   "execution_count": null,
   "metadata": {},
   "outputs": [],
   "source": []
  }
 ],
 "metadata": {
  "kernelspec": {
   "display_name": "Python 3.6.9 64-bit",
   "language": "python",
   "name": "python36964bit019ac1ddd4de423abf9b086ca7e6df0b"
  },
  "language_info": {
   "codemirror_mode": {
    "name": "ipython",
    "version": 3
   },
   "file_extension": ".py",
   "mimetype": "text/x-python",
   "name": "python",
   "nbconvert_exporter": "python",
   "pygments_lexer": "ipython3",
   "version": "3.6.9-final"
  }
 },
 "nbformat": 4,
 "nbformat_minor": 4
}