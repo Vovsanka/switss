{
 "cells": [
  {
   "cell_type": "code",
   "execution_count": null,
   "metadata": {},
   "outputs": [],
   "source": [
    "from switss.model import DTMC, ReachabilityForm\n",
    "from switss.solver import MILP, LP\n",
    "from switss.problem import MILPExact, Subsystem, QSHeur"
   ]
  },
  {
   "cell_type": "code",
   "execution_count": null,
   "metadata": {},
   "outputs": [],
   "source": [
    "P = [[0.3, 0.7, 0.0, 0.0, 0.0, 0.0, 0.0, 0.0, 0.0, 0.0],\n",
    "     [0.0, 0.1, 0.0, 0.7, 0.0, 0.1, 0.0, 0.0, 0.1, 0.0],\n",
    "     [0.0, 0.1, 0.0, 0.0, 0.0, 0.1, 0.0, 0.0, 0.8, 0.0],\n",
    "     [0.0, 0.2, 0.0, 0.4, 0.2, 0.0, 0.1, 0.1, 0.0, 0.0],\n",
    "     [0.0, 0.0, 0.0, 0.0, 0.7, 0.0, 0.0, 0.1, 0.2, 0.0],\n",
    "     [0.0, 0.0, 0.0, 0.1, 0.0, 0.8, 0.0, 0.0, 0.1, 0.0],\n",
    "     [0.0, 0.0, 0.7, 0.3, 0.0, 0.0, 0.0, 0.0, 0.0, 0.0],\n",
    "     [0.0, 0.0, 0.0, 0.0, 0.3, 0.0, 0.0, 0.6, 0.0, 0.1],\n",
    "     [0.0, 0.0, 0.0, 0.0, 0.0, 0.9, 0.0, 0.0, 0.1, 0.0],\n",
    "     [0.0, 0.0, 0.1, 0.9, 0.0, 0.0, 0.0, 0.0, 0.0, 0.0]]\n",
    "\n",
    "labels = {    \"target\" : {8},\n",
    "              \"init\" : {0},\n",
    "              \"group1\" : {1,3,6},\n",
    "              \"group2\" : {7,9,2},\n",
    "              \"group3\" : {4,5}\n",
    "         }\n",
    "\n",
    "mc = DTMC(P, labels)\n",
    "rf, _, _ = ReachabilityForm.reduce(mc, \"init\", \"target\")\n",
    "rf.system.digraph()"
   ]
  },
  {
   "cell_type": "markdown",
   "metadata": {},
   "source": [
    "Try to find a subsystem that has probability at least 0.5 and sees as few groups as possible:"
   ]
  },
  {
   "cell_type": "code",
   "execution_count": null,
   "metadata": {},
   "outputs": [],
   "source": [
    "qs_min_heur = QSHeur(solver=\"cbc\")\n",
    "result = qs_min_heur.solve(rf, 0.5, \"min\", labels=[\"group1\", \"group2\", \"group3\"])\n",
    "result.subsystem.digraph()"
   ]
  },
  {
   "cell_type": "code",
   "execution_count": null,
   "metadata": {},
   "outputs": [],
   "source": [
    "qs_min_heur = QSHeur(solver=\"cbc\")\n",
    "result = qs_min_heur.solve(rf, 0.5, \"max\")\n",
    "result.subsystem.digraph()"
   ]
  },
  {
   "cell_type": "code",
   "execution_count": null,
   "metadata": {},
   "outputs": [],
   "source": []
  }
 ],
 "metadata": {
  "kernelspec": {
   "display_name": "Python 3",
   "language": "python",
   "name": "python3"
  },
  "language_info": {
   "codemirror_mode": {
    "name": "ipython",
    "version": 3
   },
   "file_extension": ".py",
   "mimetype": "text/x-python",
   "name": "python",
   "nbconvert_exporter": "python",
   "pygments_lexer": "ipython3",
   "version": "3.8.5"
  }
 },
 "nbformat": 4,
 "nbformat_minor": 2
}
