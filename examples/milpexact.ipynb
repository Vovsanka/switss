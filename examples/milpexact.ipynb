{
 "cells": [
  {
   "cell_type": "code",
   "execution_count": null,
   "metadata": {},
   "outputs": [],
   "source": [
    "import numpy as np\n",
    "from switss.solver import MILP, LP\n",
    "from switss.problem import MILPExact, Subsystem\n",
    "from switss.model import DTMC, MDP, ReachabilityForm "
   ]
  },
  {
   "cell_type": "code",
   "execution_count": null,
   "metadata": {},
   "outputs": [],
   "source": [
    "M = DTMC.from_prism_model(\"datasets/brp.pm\",\n",
    "                         prism_constants={(\"N\",2),(\"MAX\",1)},\n",
    "                         extra_labels={(\"uncertain\",\"s=5 & srep=2\"),(\"all\",\"true\")})\n",
    "# M = MDP.from_file(\"datasets/csma-2-2.lab\", \"datasets/csma-2-2.tra\")\n",
    "M"
   ]
  },
  {
   "cell_type": "code",
   "execution_count": null,
   "metadata": {},
   "outputs": [],
   "source": [
    "rf,_,_ = ReachabilityForm.reduce(M, \"init\",\"deadlock\")"
   ]
  },
  {
   "cell_type": "code",
   "execution_count": null,
   "metadata": {},
   "outputs": [],
   "source": [
    "milp_exact = MILPExact(solver=\"cbc\")\n",
    "milp_exact.solve(rf, 0.7, \"max\")"
   ]
  },
  {
   "cell_type": "code",
   "execution_count": null,
   "metadata": {},
   "outputs": [],
   "source": [
    "milp_exact = MILPExact(solver=\"cbc\")"
   ]
  },
  {
   "cell_type": "code",
   "execution_count": null,
   "metadata": {},
   "outputs": [],
   "source": [
    "milp_exact.solve(rf,0.7, \"min\")"
   ]
  },
  {
   "cell_type": "code",
   "execution_count": null,
   "metadata": {},
   "outputs": [],
   "source": []
  }
 ],
 "metadata": {
  "kernelspec": {
   "display_name": "Python 3 (ipykernel)",
   "language": "python",
   "name": "python3"
  },
  "language_info": {
   "codemirror_mode": {
    "name": "ipython",
    "version": 3
   },
   "file_extension": ".py",
   "mimetype": "text/x-python",
   "name": "python",
   "nbconvert_exporter": "python",
   "pygments_lexer": "ipython3",
   "version": "3.9.13"
  }
 },
 "nbformat": 4,
 "nbformat_minor": 2
}
