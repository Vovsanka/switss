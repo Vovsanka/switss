{
 "cells": [
  {
   "cell_type": "code",
   "execution_count": null,
   "metadata": {},
   "outputs": [],
   "source": [
    "from switss import benchmarks as bm\n",
    "from switss.model import DTMC, MDP, ReachabilityForm\n",
    "from switss.problem import QSHeur, MILPExact, InverseReachabilityInitializer, InverseFrequencyInitializer\n",
    "import matplotlib.pyplot as plt"
   ]
  },
  {
   "cell_type": "markdown",
   "metadata": {},
   "source": [
    "# Crowds-2-8"
   ]
  },
  {
   "cell_type": "code",
   "execution_count": null,
   "metadata": {},
   "outputs": [],
   "source": [
    "M = DTMC.from_prism_model(\"datasets/crowds.pm\",\n",
    "                          prism_constants={(\"TotalRuns\", 8), (\"CrowdSize\", 2)},\n",
    "                          extra_labels={(\"target\",\"observe0>1\")})\n",
    "rf,_,_ = ReachabilityForm.reduce(M, \"init\", \"target\")"
   ]
  },
  {
   "cell_type": "markdown",
   "metadata": {},
   "source": [
    "## Standard Initializer"
   ]
  },
  {
   "cell_type": "code",
   "execution_count": null,
   "metadata": {},
   "outputs": [],
   "source": [
    "qsheur = QSHeur(iterations=5,solver=\"cbc\")\n",
    "data_min, data_max = bm.run(rf, [qsheur, qsheur], \n",
    "                            [\"min\",\"max\"], from_thr=0.01, \n",
    "                            to_thr=0.5, step=0.01, debug=False)"
   ]
  },
  {
   "cell_type": "code",
   "execution_count": null,
   "metadata": {},
   "outputs": [],
   "source": [
    "fig, ((ax1, ax2),(ax3, ax4)) = plt.subplots(2, 2, figsize=(14,12))\n",
    "bm.render(data_max, mode=\"states-thr\", ax=ax1, title=\"QSHeur Max-Form States vs. Threshold\")\n",
    "bm.render(data_min, mode=\"states-thr\", ax=ax2, title=\"QSHeur Min-Form States vs. Threshold\")\n",
    "bm.render(data_max, mode=\"proc_time-thr\", ax=ax3, title=\"QSHeur Max-Form Time vs. Threshold\")\n",
    "bm.render(data_min, mode=\"proc_time-thr\", ax=ax4, title=\"QSHeur Min-Form Time vs. Threshold\")"
   ]
  },
  {
   "cell_type": "markdown",
   "metadata": {},
   "source": [
    "## Inverse Reachability Initializer"
   ]
  },
  {
   "cell_type": "code",
   "execution_count": null,
   "metadata": {},
   "outputs": [],
   "source": [
    "qsheur = QSHeur(iterations=5,initializertype=InverseReachabilityInitializer, solver=\"cbc\")\n",
    "data_min, data_max = bm.run(rf, [qsheur, qsheur], \n",
    "                            [\"min\", \"max\"], from_thr=0.01, to_thr=0.5, \n",
    "                            step=0.01, debug=False)"
   ]
  },
  {
   "cell_type": "code",
   "execution_count": null,
   "metadata": {},
   "outputs": [],
   "source": [
    "fig, ((ax1, ax2),(ax3, ax4)) = plt.subplots(2, 2, figsize=(14,12))\n",
    "bm.render(data_max, mode=\"states-thr\", ax=ax1, title=\"QSHeur Max-Form States vs. Threshold\")\n",
    "bm.render(data_min, mode=\"states-thr\", ax=ax2, title=\"QSHeur Min-Form States vs. Threshold\")\n",
    "bm.render(data_max, mode=\"proc_time-thr\", ax=ax3, title=\"QSHeur Max-Form Time vs. Threshold\")\n",
    "bm.render(data_min, mode=\"proc_time-thr\", ax=ax4, title=\"QSHeur Min-Form Time vs. Threshold\")"
   ]
  },
  {
   "cell_type": "markdown",
   "metadata": {},
   "source": [
    "## Inverse Expected Frequency Initializer"
   ]
  },
  {
   "cell_type": "code",
   "execution_count": null,
   "metadata": {},
   "outputs": [],
   "source": [
    "qsheur = QSHeur(iterations=5,initializertype=InverseFrequencyInitializer, solver=\"cbc\")\n",
    "data_min, data_max = bm.run(rf, [qsheur, qsheur], \n",
    "                            [\"min\", \"max\"], from_thr=0.01, \n",
    "                            to_thr=0.5, step=0.01, debug=False)"
   ]
  },
  {
   "cell_type": "code",
   "execution_count": null,
   "metadata": {},
   "outputs": [],
   "source": [
    "fig, ((ax1, ax2),(ax3, ax4)) = plt.subplots(2, 2, figsize=(14,12))\n",
    "bm.render(data_max, mode=\"states-thr\", ax=ax1, title=\"QSHeur Max-Form States vs. Threshold\")\n",
    "bm.render(data_min, mode=\"states-thr\", ax=ax2, title=\"QSHeur Min-Form States vs. Threshold\")\n",
    "bm.render(data_max, mode=\"proc_time-thr\", ax=ax3, title=\"QSHeur Max-Form Time vs. Threshold\")\n",
    "bm.render(data_min, mode=\"proc_time-thr\", ax=ax4, title=\"QSHeur Min-Form Time vs. Threshold\")"
   ]
  },
  {
   "cell_type": "markdown",
   "metadata": {},
   "source": [
    "# Consensus-2-4"
   ]
  },
  {
   "cell_type": "code",
   "execution_count": null,
   "metadata": {},
   "outputs": [],
   "source": [
    "M = MDP.from_file(\"datasets/consensus-2-4.lab\", \"datasets/consensus-2-4.tra\")\n",
    "rf,_,_ = ReachabilityForm.reduce(M, \"init\", \"finished\")"
   ]
  },
  {
   "cell_type": "code",
   "execution_count": null,
   "metadata": {},
   "outputs": [],
   "source": [
    "qsheur = QSHeur(iterations=2,solver=\"cbc\")\n",
    "milpexact = MILPExact(solver=\"cbc\")\n",
    "methods = [qsheur, qsheur, milpexact]\n",
    "results = bm.run(rf, methods, [\"min\", \"max\", \"min\"], from_thr=0.1, to_thr=1, step=0.1, debug=False)\n",
    "data_qsmin, data_qsmax, data_milpmin = results"
   ]
  },
  {
   "cell_type": "code",
   "execution_count": null,
   "metadata": {
    "scrolled": false
   },
   "outputs": [],
   "source": [
    "fig, (ax1, ax2) = plt.subplots(1, 2, figsize=(14,6))\n",
    "bm.render(data_qsmax, mode=\"laststates-thr\", ax=ax1, title=\"QSHeur Max-Form States vs. Threshold\")\n",
    "bm.render(data_qsmin, mode=\"laststates-thr\", ax=ax2, title=\"QSHeur/MILP Min-Form States vs. Threshold\")\n",
    "bm.render(data_milpmin, mode=\"laststates-thr\", ax=ax2)"
   ]
  },
  {
   "cell_type": "markdown",
   "metadata": {},
   "source": [
    "# CSMA-3-2"
   ]
  },
  {
   "cell_type": "code",
   "execution_count": null,
   "metadata": {},
   "outputs": [],
   "source": [
    "M = MDP.from_file(\"datasets/csma-3-2.lab\", \"datasets/csma-3-2.tra\")\n",
    "rf,_,_ = ReachabilityForm.reduce(M, \"init\", \"all_delivered\")"
   ]
  },
  {
   "cell_type": "code",
   "execution_count": null,
   "metadata": {},
   "outputs": [],
   "source": [
    "qsheur = QSHeur(iterations=2,solver=\"cbc\")\n",
    "methods = [qsheur, qsheur]\n",
    "results = bm.run(rf, methods, [\"min\", \"max\"], from_thr=0.1, to_thr=1, step=0.1, debug=False)\n",
    "data_qsmin, data_qsmax = results"
   ]
  },
  {
   "cell_type": "code",
   "execution_count": null,
   "metadata": {},
   "outputs": [],
   "source": [
    "fig, ((ax1, ax2),(ax3, ax4)) = plt.subplots(2, 2, figsize=(14,12))\n",
    "bm.render(data_qsmax, mode=\"states-thr\", ax=ax1, title=\"QSHeur Max-Form States vs. Threshold\")\n",
    "bm.render(data_qsmin, mode=\"states-thr\", ax=ax2, title=\"QSHeur Min-Form States vs. Threshold\")\n",
    "bm.render(data_qsmax, mode=\"proc_time-thr\", ax=ax3, title=\"QSHeur Max-Form Time vs. Threshold\")\n",
    "bm.render(data_qsmin, mode=\"proc_time-thr\", ax=ax4, title=\"QSHeur Min-Form Time vs. Threshold\")"
   ]
  },
  {
   "cell_type": "code",
   "execution_count": null,
   "metadata": {},
   "outputs": [],
   "source": []
  }
 ],
 "metadata": {
  "kernelspec": {
   "display_name": "Python 3",
   "language": "python",
   "name": "python3"
  },
  "language_info": {
   "codemirror_mode": {
    "name": "ipython",
    "version": 3
   },
   "file_extension": ".py",
   "mimetype": "text/x-python",
   "name": "python",
   "nbconvert_exporter": "python",
   "pygments_lexer": "ipython3",
   "version": "3.8.5"
  }
 },
 "nbformat": 4,
 "nbformat_minor": 4
}
