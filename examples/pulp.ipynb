{
 "cells": [
  {
   "cell_type": "code",
   "execution_count": null,
   "metadata": {},
   "outputs": [],
   "source": [
    "import numpy as np\n",
    "from switss.solver import MILP, LP"
   ]
  },
  {
   "cell_type": "code",
   "execution_count": null,
   "metadata": {},
   "outputs": [],
   "source": [
    "# example for a LP instance. optimal result should be x_opt=[1.5,7.0].\n",
    "A = np.matrix([[2,1],[4,-1],[-8,2],[-1,0],[0,-1]])\n",
    "b = np.array([10,8,2,0,0])\n",
    "opt = np.array([1,1])\n",
    "lp = LP.from_coefficients(A,b,opt,sense=\"<=\",objective=\"max\")\n",
    "\n",
    "result = lp.solve(solver=\"cbc\")\n",
    "print(result)"
   ]
  },
  {
   "cell_type": "code",
   "execution_count": null,
   "metadata": {},
   "outputs": [],
   "source": [
    "# example for a MILP instance. optimal result should be x_opt=[2,6].\n",
    "# this is the same as the LP instance but with an added integer constraint for the first variable.\n",
    "A = np.matrix([[2,1],[4,-1],[-8,2],[-1,0],[0,-1]])\n",
    "b = np.array([10,8,2,0,0])\n",
    "opt = np.array([1,1])\n",
    "domains = [\"integer\", \"real\"]\n",
    "milp = MILP.from_coefficients(A,b,opt,domains,objective=\"max\")\n",
    "\n",
    "result = milp.solve(solver=\"cbc\")\n",
    "print(result)"
   ]
  },
  {
   "cell_type": "code",
   "execution_count": null,
   "metadata": {},
   "outputs": [],
   "source": [
    "# the same as the first LP, but constraints and objective function are added manually.\n",
    "lp = LP(objective=\"max\")\n",
    "var1, var2 = lp.add_variables(2)\n",
    "lp.add_constraint([(var1, 2), (var2, 1)], \"<=\", 10)\n",
    "lp.add_constraint([(var1, 4), (var2, -1)], \"<=\", 8)\n",
    "lp.add_constraint([(var1, -8), (var2, 2)], \"<=\", 2)\n",
    "lp.add_constraint([(var1, 1)], \">=\", 0)\n",
    "lp.add_constraint([(var2, 1)], \">=\", 0)\n",
    "lp.set_objective_function([(var1, 1), (var2, 1)])\n",
    "result = lp.solve(solver=\"cbc\")\n",
    "print(result)"
   ]
  },
  {
   "cell_type": "code",
   "execution_count": null,
   "metadata": {},
   "outputs": [],
   "source": [
    "# the same as the last MILP, but constraints and objective function are added manually.\n",
    "milp = MILP(objective=\"max\")\n",
    "var1, var2 = milp.add_variables(\"integer\", \"real\")\n",
    "milp.add_constraint([(var1, 2), (var2, 1)], \"<=\", 10)\n",
    "milp.add_constraint([(var1, 4), (var2, -1)], \"<=\", 8)\n",
    "milp.add_constraint([(var1, -8), (var2, 2)], \"<=\", 2)\n",
    "milp.add_constraint([(var1, 1)], \">=\", 0)\n",
    "milp.add_constraint([(var2, 1)], \">=\", 0)\n",
    "milp.set_objective_function([(var1, 1), (var2, 1)])\n",
    "result = milp.solve(solver=\"cbc\")\n",
    "print(result)"
   ]
  },
  {
   "cell_type": "code",
   "execution_count": null,
   "metadata": {},
   "outputs": [],
   "source": []
  },
  {
   "cell_type": "code",
   "execution_count": null,
   "metadata": {},
   "outputs": [],
   "source": []
  }
 ],
 "metadata": {
  "kernelspec": {
   "display_name": "Python 3",
   "language": "python",
   "name": "python3"
  },
  "language_info": {
   "codemirror_mode": {
    "name": "ipython",
    "version": 3
   },
   "file_extension": ".py",
   "mimetype": "text/x-python",
   "name": "python",
   "nbconvert_exporter": "python",
   "pygments_lexer": "ipython3",
   "version": "3.6.9-final"
  }
 },
 "nbformat": 4,
 "nbformat_minor": 4
}