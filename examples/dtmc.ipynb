{
 "cells": [
  {
   "cell_type": "code",
   "execution_count": null,
   "metadata": {},
   "outputs": [],
   "source": [
    "from scipy.sparse import dok_matrix\n",
    "from switss.model import DTMC, ReachabilityForm"
   ]
  },
  {
   "cell_type": "code",
   "execution_count": null,
   "metadata": {},
   "outputs": [],
   "source": [
    "P = [[0.3, 0.7, 0.0, 0.0, 0.0, 0.0, 0.0],\n",
    "     [0.0, 0.5, 0.0, 0.0, 0.0, 0.0, 0.5],\n",
    "     [0.0, 0.1, 0.0, 0.7, 0.0, 0.2, 0.0],\n",
    "     [0.0, 0.2, 0.0, 0.4, 0.4, 0.0, 0.0],\n",
    "     [0.0, 0.0, 0.0, 0.0, 1.0, 0.0, 0.0],\n",
    "     [0.0, 0.0, 0.0, 0.0, 0.0, 1.0, 0.0],\n",
    "     [0.0, 0.0, 0.1, 0.9, 0.0, 0.0, 0.0]]\n",
    "\n",
    "labels = {    \"target\" : {3,4,6},\n",
    "              \"init\" : {0} }\n",
    "\n",
    "mc = DTMC(P, labels)\n",
    "mc.digraph()"
   ]
  },
  {
   "cell_type": "code",
   "execution_count": null,
   "metadata": {},
   "outputs": [],
   "source": [
    "rf,_,_ = ReachabilityForm.reduce(mc, \"init\", \"target\")\n",
    "rf.system.digraph()"
   ]
  },
  {
   "cell_type": "code",
   "execution_count": null,
   "metadata": {},
   "outputs": [],
   "source": [
    "tra_path, lab_path = rf.system.save(\"datasets/toy\")\n",
    "print(\"saved at %s, %s\" % (tra_path, lab_path))\n",
    "mcrf_loaded = DTMC.from_file(lab_path, tra_path)\n",
    "rf = ReachabilityForm(mcrf_loaded, \"init\")\n",
    "rf.system.digraph()"
   ]
  },
  {
   "cell_type": "code",
   "execution_count": null,
   "metadata": {},
   "outputs": [],
   "source": [
    "M = DTMC.from_prism_model(\"datasets/brp.pm\",\n",
    "                          prism_constants={(\"N\",2),(\"MAX\",1)},\n",
    "                          extra_labels={(\"uncertain\",\"s=5 & srep=2\"),(\"all\",\"true\")})\n",
    "M.digraph()"
   ]
  },
  {
   "cell_type": "code",
   "execution_count": null,
   "metadata": {},
   "outputs": [],
   "source": []
  }
 ],
 "metadata": {
  "file_extension": ".py",
  "kernelspec": {
   "display_name": "Python 3",
   "language": "python",
   "name": "python3"
  },
  "language_info": {
   "codemirror_mode": {
    "name": "ipython",
    "version": 3
   },
   "file_extension": ".py",
   "mimetype": "text/x-python",
   "name": "python",
   "nbconvert_exporter": "python",
   "pygments_lexer": "ipython3",
   "version": "3.6.9-final"
  },
  "mimetype": "text/x-python",
  "name": "python",
  "npconvert_exporter": "python",
  "pygments_lexer": "ipython2",
  "version": 2
 },
 "nbformat": 4,
 "nbformat_minor": 2
}