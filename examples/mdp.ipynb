{
 "cells": [
  {
   "cell_type": "code",
   "execution_count": null,
   "metadata": {},
   "outputs": [],
   "source": [
    "from scipy.sparse import dok_matrix\n",
    "from bidict import bidict\n",
    "from switss.model import MDP, ReachabilityForm"
   ]
  },
  {
   "cell_type": "code",
   "execution_count": null,
   "metadata": {},
   "outputs": [],
   "source": [
    "index_by_state_action = {(0, 0): 0, (0, 1): 1, (1, 0): 2, (2, 0): 3, (2, 1): 4}\n",
    "actionlabels = {\"A\" : { (0,0), (2,0), (1,0) }, \"B\" : { (2,1), (0,1) } }\n",
    "\n",
    "P = [[0.3, 0.0, 0.7],\n",
    "     [0.0, 1.0, 0.0],\n",
    "     [0.5, 0.3, 0.2],\n",
    "     [0.8, 0.2, 0.0],\n",
    "     [0.0, 0.0, 1.0]]\n",
    "\n",
    "labels = {  \"target\": {2},\n",
    "            \"init\"  : {0}}\n",
    "\n",
    "mdp = MDP(P, index_by_state_action, actionlabels, labels)\n",
    "mdp.digraph()"
   ]
  },
  {
   "cell_type": "code",
   "execution_count": null,
   "metadata": {},
   "outputs": [],
   "source": [
    "rf,_,_ = ReachabilityForm.reduce(mdp, \"init\", \"target\")\n",
    "rf.system.digraph()"
   ]
  },
  {
   "cell_type": "code",
   "execution_count": null,
   "metadata": {},
   "outputs": [],
   "source": [
    "rf.max_y_state()"
   ]
  },
  {
   "cell_type": "code",
   "execution_count": null,
   "metadata": {},
   "outputs": [],
   "source": [
    "rf.max_y_state_action()"
   ]
  }
 ],
 "metadata": {
  "kernelspec": {
   "display_name": "Python 3",
   "language": "python",
   "name": "python3"
  },
  "language_info": {
   "codemirror_mode": {
    "name": "ipython",
    "version": 3
   },
   "file_extension": ".py",
   "mimetype": "text/x-python",
   "name": "python",
   "nbconvert_exporter": "python",
   "pygments_lexer": "ipython3",
   "version": "3.6.9-final"
  }
 },
 "nbformat": 4,
 "nbformat_minor": 4
}