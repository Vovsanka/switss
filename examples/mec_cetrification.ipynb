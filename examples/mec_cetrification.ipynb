{
 "cells": [
  {
   "cell_type": "code",
   "execution_count": null,
   "metadata": {},
   "outputs": [],
   "source": [
    "from switss.model import DTMC\n",
    "import numpy as np\n",
    "from switss.utils import color_from_hash\n",
    "\n",
    "# example on how to retrieve SCCs from a DTMC\n",
    "# setup the graph\n",
    "# ----------------\n",
    "E = [[0,1],[1,2],[2,0],[3,2],[3,1],[3,5],[4,2],[4,6],[5,4],[5,3],[6,4],[7,5],[7,6],[7,7]]\n",
    "P = np.zeros(shape=(8,8))\n",
    "for u,v in E:\n",
    "    # initialize with arbitrary probabilities\n",
    "    ucount = len([w for w,z in E if w == u])\n",
    "    P[u,v] = 1/ucount\n",
    "# ----------------\n",
    "\n",
    "# rcreate DTMC\n",
    "dtmc = DTMC(P)"
   ]
  },
  {
   "cell_type": "code",
   "execution_count": null,
   "metadata": {},
   "outputs": [],
   "source": [
    "# using the example-DTMC above, we can retrieve its MECs.\n",
    "# 0-entries identify states that are not part of any MEC.\n",
    "components,mec_count,_ = dtmc.maximal_end_components()\n",
    "print(\"components:\",components,\"MEC components count:\", mec_count)\n",
    "\n",
    "def sm(stateidx,labels):\n",
    "    # give every state a green color that is not part of any MEC\n",
    "    color = \"green\" if components[stateidx] == 0 else color_from_hash(7*components[stateidx])\n",
    "    return { \"color\" : color, \"style\" : \"filled\" } \n",
    "\n",
    "dtmc.digraph(state_map=sm)"
   ]
  }
 ],
 "metadata": {
  "language_info": {
   "name": "python"
  }
 },
 "nbformat": 4,
 "nbformat_minor": 2
}
